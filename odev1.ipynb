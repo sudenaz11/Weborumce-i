{
  "nbformat": 4,
  "nbformat_minor": 0,
  "metadata": {
    "colab": {
      "provenance": [],
      "authorship_tag": "ABX9TyPcWJlYPTuGceilqq5DaNt9",
      "include_colab_link": true
    },
    "kernelspec": {
      "name": "python3",
      "display_name": "Python 3"
    },
    "language_info": {
      "name": "python"
    }
  },
  "cells": [
    {
      "cell_type": "markdown",
      "metadata": {
        "id": "view-in-github",
        "colab_type": "text"
      },
      "source": [
        "<a href=\"https://colab.research.google.com/github/sudenaz11/Weborumce-i/blob/main/odev1.ipynb\" target=\"_parent\"><img src=\"https://colab.research.google.com/assets/colab-badge.svg\" alt=\"Open In Colab\"/></a>"
      ]
    },
    {
      "cell_type": "code",
      "execution_count": 13,
      "metadata": {
        "colab": {
          "base_uri": "https://localhost:8080/"
        },
        "id": "GYTvb71jXBz1",
        "outputId": "24a4dbea-639b-43a5-f5da-778edb1f52f7"
      },
      "outputs": [
        {
          "output_type": "stream",
          "name": "stdout",
          "text": [
            "Bir metin girin: the\n",
            "Metnin dili: English\n"
          ]
        }
      ],
      "source": [
        "def detect_language(text):\n",
        "    # Her dil için sık kullanılan kelimeler ve özel karakterler\n",
        "    turkish_words = [\"bir\", \"ve\", \"bu\", \"şu\", \"ile\"]\n",
        "    english_words = [\"the\", \"is\", \"and\", \"you\", \"it\"]\n",
        "    german_words = [\"und\", \"ich\", \"nicht\", \"das\", \"du\"]\n",
        "    french_words = [\"le\", \"la\", \"et\", \"un\", \"je\"]\n",
        "    spanish_words = [\"el\", \"la\", \"y\", \"un\", \"yo\"]\n",
        "\n",
        "    # Dilin kendine has özel karakterleri\n",
        "    turkish_chars = [\"ç\", \"ş\", \"ğ\", \"ı\", \"ö\", \"ü\"]\n",
        "    german_chars = [\"ä\", \"ö\", \"ü\", \"ß\"]\n",
        "    french_chars = [\"é\", \"à\", \"è\", \"ù\", \"â\", \"ê\"]\n",
        "    spanish_chars = [\"ñ\", \"á\", \"é\", \"í\", \"ó\", \"ú\"]\n",
        "\n",
        "    # Dil skorları için bir sözlük\n",
        "    scores = {\"Turkish\": 0, \"English\": 0, \"German\": 0, \"French\": 0, \"Spanish\": 0}\n",
        "\n",
        "    # Kelime skorlaması: metinde her dil için tanımlı kelimelerden varsa dil skorunu artırır\n",
        "    for word in text.lower().split():\n",
        "        if word in turkish_words:\n",
        "            scores[\"Turkish\"] += 1\n",
        "        if word in english_words:\n",
        "            scores[\"English\"] += 1\n",
        "        if word in german_words:\n",
        "            scores[\"German\"] += 1\n",
        "        if word in french_words:\n",
        "            scores[\"French\"] += 1\n",
        "        if word in spanish_words:\n",
        "            scores[\"Spanish\"] += 1\n",
        "\n",
        "    # Karakter skorlaması: metinde her dil için tanımlı özel karakterler varsa dil skorunu artırır\n",
        "    for char in text:\n",
        "        if char in turkish_chars:\n",
        "            scores[\"Turkish\"] += 1\n",
        "        if char in german_chars:\n",
        "            scores[\"German\"] += 1\n",
        "        if char in french_chars:\n",
        "            scores[\"French\"] += 1\n",
        "        if char in spanish_chars:\n",
        "            scores[\"Spanish\"] += 1\n",
        "\n",
        "    # En yüksek skoru alan dili döndür\n",
        "    max_score = max(scores.values())\n",
        "    detected_languages = [lang for lang, score in scores.items() if score == max_score]\n",
        "\n",
        "    # Eğer en yüksek skor birden fazla dilde varsa belirsizlik oluşur; ilkini döndür\n",
        "    if len(detected_languages) > 1:\n",
        "        return \"Belirsiz, birden fazla dil algılandı.\"\n",
        "    else:\n",
        "        return detected_languages[0]\n",
        "\n",
        "# Örnek kullanım\n",
        "metin = input(\"Bir metin girin: \")\n",
        "dil = detect_language(metin)\n",
        "\n",
        "\n",
        "dil =print(\"Metnin dili:\", dil)\n",
        "\n"
      ]
    }
  ]
}