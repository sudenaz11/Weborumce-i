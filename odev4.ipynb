{
  "nbformat": 4,
  "nbformat_minor": 0,
  "metadata": {
    "colab": {
      "provenance": [],
      "authorship_tag": "ABX9TyNXV3y67kvmUbiF/uGb9jpE",
      "include_colab_link": true
    },
    "kernelspec": {
      "name": "python3",
      "display_name": "Python 3"
    },
    "language_info": {
      "name": "python"
    }
  },
  "cells": [
    {
      "cell_type": "markdown",
      "metadata": {
        "id": "view-in-github",
        "colab_type": "text"
      },
      "source": [
        "<a href=\"https://colab.research.google.com/github/sudenaz11/Weborumce-i/blob/main/odev4.ipynb\" target=\"_parent\"><img src=\"https://colab.research.google.com/assets/colab-badge.svg\" alt=\"Open In Colab\"/></a>"
      ]
    },
    {
      "cell_type": "code",
      "source": [
        "from sklearn.feature_extraction.text import CountVectorizer\n",
        "from sklearn.naive_bayes import MultinomialNB\n",
        "from sklearn.pipeline import make_pipeline\n",
        "from sklearn.model_selection import train_test_split\n",
        "\n",
        "# Örnek veri seti: metinler ve etiketler (konu başlıkları)\n",
        "data = [\n",
        "    (\"Hükümet yeni ekonomik paket açıkladı\", \"Siyaset\"),\n",
        "    (\"Teknolojide yeni bir yapay zeka uygulaması geliştirildi\", \"Teknoloji\"),\n",
        "    (\"Galatasaray bu sezon şampiyon oldu\", \"Spor\"),\n",
        "    (\"Yeni sağlık raporu, kalp hastalıkları riskini gösterdi\", \"Sağlık\"),\n",
        "    (\"Yeni bir Hollywood filmi gösterime girdi\", \"Eğlence\"),\n",
        "    (\"Birçok teknoloji firması yapay zekaya yatırım yapıyor\", \"Teknoloji\"),\n",
        "    (\"Süper Lig'in son durumu ve yeni transferler\", \"Spor\"),\n",
        "    (\"COVID-19 aşısının faydaları üzerine bir çalışma yayınlandı\", \"Sağlık\"),\n",
        "    (\"2024 seçimlerinde hangi partinin kazanacağı konuşuluyor\", \"Siyaset\"),\n",
        "    (\"Tatil için popüler yerler arasında yer alan adalar\", \"Eğlence\")\n",
        "]\n",
        "\n",
        "# Metinler ve etiketler ayrılıyor\n",
        "texts, labels = zip(*data)\n",
        "\n",
        "# Modeli oluşturmak için bir pipeline (boru hattı) kullanıyoruz\n",
        "# CountVectorizer metni sayısal verilere dönüştürür, Naive Bayes sınıflandırıcı ise tahmin yapar\n",
        "model = make_pipeline(CountVectorizer(), MultinomialNB())\n",
        "\n",
        "# Veriyi eğitim ve test verisi olarak ayırıyoruz\n",
        "X_train, X_test, y_train, y_test = train_test_split(texts, labels, test_size=0.2, random_state=42)\n",
        "\n",
        "# Modeli eğitiyoruz\n",
        "model.fit(X_train, y_train)\n",
        "\n",
        "# Kullanıcıdan metin girişi almak\n",
        "def classify_text(input_text):\n",
        "    # Giriş metnini sınıflandırıyoruz\n",
        "    prediction = model.predict([input_text])\n",
        "    return prediction[0]\n",
        "\n",
        "# Kullanıcıdan metin almak\n",
        "user_input = input(\"Bir metin girin: \")\n",
        "\n",
        "# Sonucu yazdırmak\n",
        "result = classify_text(user_input)\n",
        "print(f\"Metnin konu başlığı: {result}\")\n"
      ],
      "metadata": {
        "colab": {
          "base_uri": "https://localhost:8080/"
        },
        "id": "AtyZhxjdc7TB",
        "outputId": "13ccc785-5d25-4245-ef42-15853b83f4f4"
      },
      "execution_count": 26,
      "outputs": [
        {
          "output_type": "stream",
          "name": "stdout",
          "text": [
            "Bir metin girin: süper lig\n",
            "Metnin konu başlığı: Spor\n"
          ]
        }
      ]
    }
  ]
}