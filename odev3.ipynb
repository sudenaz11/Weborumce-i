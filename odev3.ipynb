{
  "nbformat": 4,
  "nbformat_minor": 0,
  "metadata": {
    "colab": {
      "provenance": [],
      "authorship_tag": "ABX9TyNv9xk+5Q32W6caeT8yU77W",
      "include_colab_link": true
    },
    "kernelspec": {
      "name": "python3",
      "display_name": "Python 3"
    },
    "language_info": {
      "name": "python"
    }
  },
  "cells": [
    {
      "cell_type": "markdown",
      "metadata": {
        "id": "view-in-github",
        "colab_type": "text"
      },
      "source": [
        "<a href=\"https://colab.research.google.com/github/sudenaz11/Weborumce-i/blob/main/odev3.ipynb\" target=\"_parent\"><img src=\"https://colab.research.google.com/assets/colab-badge.svg\" alt=\"Open In Colab\"/></a>"
      ]
    },
    {
      "cell_type": "code",
      "source": [
        "!pip install langdetect\n",
        "from langdetect import detect, DetectorFactory\n",
        "from langdetect.lang_detect_exception import LangDetectException\n",
        "\n",
        "# Langdetect'in tutarlı sonuçlar vermesi için rastgelelik sabitlenir\n",
        "DetectorFactory.seed = 0\n",
        "\n",
        "def detect_language(text):\n",
        "    try:\n",
        "        # Metnin dilini tespit et\n",
        "        lang = detect(text)\n",
        "\n",
        "        # Dil kodlarını dil isimleriyle eşleştirme\n",
        "        language_map = {\n",
        "            \"tr\": \"Türkçe\",\n",
        "            \"en\": \"İngilizce\",\n",
        "            \"de\": \"Almanca\",\n",
        "            \"fr\": \"Fransızca\",\n",
        "            \"es\": \"İspanyolca\"\n",
        "        }\n",
        "\n",
        "        # Eğer dil eşleşiyorsa döndür, aksi halde \"Diğer Diller\"\n",
        "        return language_map.get(lang, \"Diğer Diller\")\n",
        "\n",
        "    except LangDetectException:\n",
        "        return \"Dil tespit edilemedi\"\n",
        "\n",
        "# Kullanıcıdan metin girişi alma\n",
        "metin = input(\"Bir metin girin: \")\n",
        "dil = detect_language(metin)\n",
        "print(\"Metnin dili:\", dil)"
      ],
      "metadata": {
        "colab": {
          "base_uri": "https://localhost:8080/"
        },
        "id": "MJvVlUHwa9pU",
        "outputId": "0254d296-9d3c-4f5a-9daa-3a9a52ac8294"
      },
      "execution_count": 24,
      "outputs": [
        {
          "output_type": "stream",
          "name": "stdout",
          "text": [
            "Requirement already satisfied: langdetect in /usr/local/lib/python3.10/dist-packages (1.0.9)\n",
            "Requirement already satisfied: six in /usr/local/lib/python3.10/dist-packages (from langdetect) (1.16.0)\n",
            "Bir metin girin: hasan\n",
            "Metnin dili: Diğer Diller\n"
          ]
        }
      ]
    }
  ]
}