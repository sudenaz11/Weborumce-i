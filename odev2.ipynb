{
  "nbformat": 4,
  "nbformat_minor": 0,
  "metadata": {
    "colab": {
      "provenance": [],
      "authorship_tag": "ABX9TyMk2APRBKKuXwMfVCirG0nT",
      "include_colab_link": true
    },
    "kernelspec": {
      "name": "python3",
      "display_name": "Python 3"
    },
    "language_info": {
      "name": "python"
    }
  },
  "cells": [
    {
      "cell_type": "markdown",
      "metadata": {
        "id": "view-in-github",
        "colab_type": "text"
      },
      "source": [
        "<a href=\"https://colab.research.google.com/github/sudenaz11/Weborumce-i/blob/main/odev2.ipynb\" target=\"_parent\"><img src=\"https://colab.research.google.com/assets/colab-badge.svg\" alt=\"Open In Colab\"/></a>"
      ]
    },
    {
      "cell_type": "code",
      "source": [
        "def detect_topic(text):\n",
        "    # Her konu başlığı için anahtar kelimeler\n",
        "    politics_keywords = [\"hükümet\", \"seçim\", \"parti\", \"meclis\", \"kanun\", \"politik\", \"başbakan\", \"devlet\"]\n",
        "    technology_keywords = [\"bilgisayar\", \"yazılım\", \"donanım\", \"internet\", \"yapay zeka\", \"robot\", \"uygulama\", \"veri\"]\n",
        "    sports_keywords = [\"futbol\", \"basketbol\", \"maç\", \"oyuncu\", \"antrenman\", \"turnuva\", \"takım\", \"gol\"]\n",
        "    health_keywords = [\"sağlık\", \"hastane\", \"doktor\", \"tedavi\", \"aşı\", \"virüs\", \"hastalık\", \"ilaç\"]\n",
        "    entertainment_keywords = [\"film\", \"dizi\", \"sanatçı\", \"müzik\", \"tiyatro\", \"eğlence\", \"festival\", \"oyuncu\"]\n",
        "\n",
        "    # Her konu için bir skor sözlüğü\n",
        "    scores = {\n",
        "        \"Siyaset\": 0,\n",
        "        \"Teknoloji\": 0,\n",
        "        \"Spor\": 0,\n",
        "        \"Sağlık\": 0,\n",
        "        \"Eğlence\": 0\n",
        "    }\n",
        "\n",
        "    # Metindeki kelimelere göre konu başlığı skorlaması\n",
        "    for word in text.lower().split():\n",
        "        if word in politics_keywords:\n",
        "            scores[\"Siyaset\"] += 1\n",
        "        if word in technology_keywords:\n",
        "            scores[\"Teknoloji\"] += 1\n",
        "        if word in sports_keywords:\n",
        "            scores[\"Spor\"] += 1\n",
        "        if word in health_keywords:\n",
        "            scores[\"Sağlık\"] += 1\n",
        "        if word in entertainment_keywords:\n",
        "            scores[\"Eğlence\"] += 1\n",
        "\n",
        "    # En yüksek skorlu konuyu bulma\n",
        "    max_score = max(scores.values())\n",
        "    detected_topics = [topic for topic, score in scores.items() if score == max_score and score > 0]\n",
        "\n",
        "    # Eğer en yüksek skor birden fazla başlıkta varsa veya skor 0 ise\n",
        "    if len(detected_topics) == 0:\n",
        "        return \"Diğer Konular\"\n",
        "    elif len(detected_topics) > 1:\n",
        "        return \"Belirsiz, birden fazla konu algılandı.\"\n",
        "    else:\n",
        "        return detected_topics[0]\n",
        "\n",
        "# Kullanıcıdan metin girişi alma\n",
        "metin = input(\"Bir metin girin: \")\n",
        "konu = detect_topic(metin)\n",
        "print(\"Metnin konusu:\", konu)\n"
      ],
      "metadata": {
        "colab": {
          "base_uri": "https://localhost:8080/"
        },
        "id": "5Eb7r-JzYyqq",
        "outputId": "d67cd919-eab1-49be-94f8-8d0ac2a4ab76"
      },
      "execution_count": 15,
      "outputs": [
        {
          "output_type": "stream",
          "name": "stdout",
          "text": [
            "Bir metin girin: bilgisayar\n",
            "Metnin konusu: Teknoloji\n"
          ]
        }
      ]
    }
  ]
}